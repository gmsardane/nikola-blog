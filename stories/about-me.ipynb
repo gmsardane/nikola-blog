{
 "cells": [
  {
   "cell_type": "markdown",
   "metadata": {},
   "source": [
    "I am an astrophysicist, specializing on quasars as probes of the most recent eight billion years of our cosmic history. As a data enthusiast, I like to make pretty and vivid plots that could help people make informed decisions. I enjoy watching action-packed DOTA games and I find Naruto inspiring.  My most important, rewarding and amazing role, thus far, is being Mom to my little Boss."
   ]
  }
 ],
 "metadata": {
  "kernelspec": {
   "display_name": "Python 2",
   "language": "python",
   "name": "python2"
  },
  "language_info": {
   "codemirror_mode": {
    "name": "ipython",
    "version": 2
   },
   "file_extension": ".py",
   "mimetype": "text/x-python",
   "name": "python",
   "nbconvert_exporter": "python",
   "pygments_lexer": "ipython2",
   "version": "2.7.6"
  },
  "nikola": {
   "category": "",
   "date": "2016-05-29 17:08:04 UTC-05:00",
   "description": "",
   "link": "",
   "slug": "about-me",
   "tags": "",
   "title": "About Me",
   "type": "text"
  }
 },
 "nbformat": 4,
 "nbformat_minor": 0
}
