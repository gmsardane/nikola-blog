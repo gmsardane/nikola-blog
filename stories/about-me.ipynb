{
 "cells": [
  {
   "cell_type": "markdown",
   "metadata": {},
   "source": [
    "Write your page here."
   ]
  }
 ],
 "metadata": {
  "kernelspec": {
   "display_name": "Python 2",
   "env": {},
   "language": "python",
   "name": "python2"
  },
  "nikola": {
   "category": "",
   "date": "2016-05-29 17:08:04 UTC-05:00",
   "description": "",
   "link": "",
   "slug": "about-me",
   "tags": "",
   "title": "About Me",
   "type": "text"
  }
 },
 "nbformat": 4,
 "nbformat_minor": 0
}
