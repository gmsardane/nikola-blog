{
 "cells": [
  {
   "cell_type": "markdown",
   "metadata": {},
   "source": [
    "Write your page here."
   ]
  }
 ],
 "metadata": {
  "kernelspec": {
   "display_name": "Python 2",
   "env": {},
   "language": "python",
   "name": "python2"
  },
  "nikola": {
   "category": "",
   "date": "2016-05-29 23:47:31 UTC-05:00",
   "description": "",
   "link": "",
   "slug": "gmos-reduction-script",
   "tags": "",
   "title": "GMOS Reduction Script",
   "type": "text"
  }
 },
 "nbformat": 4,
 "nbformat_minor": 0
}
