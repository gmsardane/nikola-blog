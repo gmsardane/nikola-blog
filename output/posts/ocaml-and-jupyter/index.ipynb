{
 "cells": [
  {
   "cell_type": "markdown",
   "metadata": {},
   "source": [
    "I decided to try out OCaml as a kernel in a Jupyter notebook. Doing it was pretty straight forward.\n",
    "All I did was:\n",
    "\n",
    "1) Install OPAM\n",
    "```\n",
    "brew install opam\n",
    "```\n",
    "2) Install OCaml and some libraries\n",
    "```\n",
    "opam init\n",
    "eval `opam config env`\n",
    "opam install batteries core\n",
    "```\n",
    "3) Install iocaml\n",
    "```\n",
    "opam install iocaml\n",
    "```\n"
   ]
  },
  {
   "cell_type": "code",
   "execution_count": null,
   "metadata": {
    "collapsed": true
   },
   "outputs": [],
   "source": []
  }
 ],
 "metadata": {
  "kernelspec": {
   "display_name": "Python 3",
   "language": "python",
   "name": "python3"
  },
  "language_info": {
   "codemirror_mode": {
    "name": "ipython",
    "version": 3
   },
   "file_extension": ".py",
   "mimetype": "text/x-python",
   "name": "python",
   "nbconvert_exporter": "python",
   "pygments_lexer": "ipython3",
   "version": "3.5.1"
  },
  "nikola": {
   "category": "",
   "date": "2016-06-22 22:39:06 UTC-05:00",
   "description": "",
   "link": "",
   "slug": "ocaml-and-jupyter",
   "tags": "",
   "title": "OCaml and Jupyter",
   "type": "text"
  }
 },
 "nbformat": 4,
 "nbformat_minor": 0
}
