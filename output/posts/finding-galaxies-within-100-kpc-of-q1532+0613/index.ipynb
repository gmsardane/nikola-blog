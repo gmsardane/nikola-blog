{
 "cells": [
  {
   "cell_type": "markdown",
   "metadata": {},
   "source": [
    "### This will demonstrate how [scikit's](https://www.scipy.org/scikits.html) image processing library [scikit-image](http://scikit-image.org/) is useful to my data for Q1532+0613. \n",
    "\n",
    "### The data was taken by the Gemini North during the 2015A observing run (GN-2015A-Q77). The data can be accessed [here](https://archive.gemini.edu/searchform/cols=CTOWEQ/GN-2015A-Q-077/notengineering/GMOS-N/NotFail)"
   ]
  },
  {
   "cell_type": "code",
   "execution_count": 76,
   "metadata": {
    "collapsed": false
   },
   "outputs": [],
   "source": [
    "# Import matplotlib (plotting), skimage (image processing) and interact (user interfaces)\n",
    "# This enables their use in the Notebook.\n",
    "%matplotlib inline\n",
    "import astropy.io.fits as fits\n",
    "\n",
    "#from skimage import data\n",
    "from skimage.feature import blob_doh\n",
    "from skimage.color import rgb2gray\n",
    "\n",
    "from ipywidgets import interact, fixed\n",
    "\n",
    "# Extract the first 500px square of the Hubble Deep Field.\n",
    "#path = 'blog/posts/Gemini_Data/Imaging'\n",
    "#image = path+\n",
    "#image = data.hubble_deep_field()[0:500, 0:500]\n",
    "image, header = fits.getdata('/home/ec2-user/blog/posts/Gemini_Data/Imaging/obj_stacked_r.fits', 0, header=True)\n",
    "image = image/image.max()\n",
    "image_gray = rgb2gray(image)\n",
    "def plot_blobs(max_sigma=30, threshold=0.1, gray=False):\n",
    "    \"\"\"\n",
    "    Plot the image and the blobs that have been found.\n",
    "    \"\"\"\n",
    "    blobs = blob_doh(image_gray, max_sigma=max_sigma, threshold=threshold)\n",
    "    \n",
    "    fig, ax = plt.subplots(figsize=(8,8))\n",
    "    ax.set_title('Galaxies in the Hubble Deep Field')\n",
    "    \n",
    "    if gray:\n",
    "        ax.imshow(image_gray, interpolation='nearest', cmap='gray_r')\n",
    "        circle_color = 'red'\n",
    "    else:\n",
    "        ax.imshow(image, interpolation='nearest')\n",
    "        circle_color = 'yellow'\n",
    "    for blob in blobs:\n",
    "        y, x, r = blob\n",
    "        c = plt.Circle((x, y), r, color=circle_color, linewidth=2, fill=False)\n",
    "        ax.add_patch(c)\n",
    "\n"
   ]
  },
  {
   "cell_type": "code",
   "execution_count": 74,
   "metadata": {
    "collapsed": false
   },
   "outputs": [
    {
     "ename": "MemoryError",
     "evalue": "",
     "output_type": "error",
     "traceback": [
      "\u001b[1;31m---------------------------------------------------------------------------\u001b[0m",
      "\u001b[1;31mMemoryError\u001b[0m                               Traceback (most recent call last)",
      "\u001b[1;32m<ipython-input-73-29b83ec9d469>\u001b[0m in \u001b[0;36mplot_blobs\u001b[1;34m(max_sigma, threshold, gray)\u001b[0m\n\u001b[0;32m     21\u001b[0m     \u001b[0mPlot\u001b[0m \u001b[0mthe\u001b[0m \u001b[0mimage\u001b[0m \u001b[1;32mand\u001b[0m \u001b[0mthe\u001b[0m \u001b[0mblobs\u001b[0m \u001b[0mthat\u001b[0m \u001b[0mhave\u001b[0m \u001b[0mbeen\u001b[0m \u001b[0mfound\u001b[0m\u001b[1;33m.\u001b[0m\u001b[1;33m\u001b[0m\u001b[0m\n\u001b[0;32m     22\u001b[0m     \"\"\"\n\u001b[1;32m---> 23\u001b[1;33m     \u001b[0mblobs\u001b[0m \u001b[1;33m=\u001b[0m \u001b[0mblob_doh\u001b[0m\u001b[1;33m(\u001b[0m\u001b[0mimage_gray\u001b[0m\u001b[1;33m,\u001b[0m \u001b[0mmax_sigma\u001b[0m\u001b[1;33m=\u001b[0m\u001b[0mmax_sigma\u001b[0m\u001b[1;33m,\u001b[0m \u001b[0mthreshold\u001b[0m\u001b[1;33m=\u001b[0m\u001b[0mthreshold\u001b[0m\u001b[1;33m)\u001b[0m\u001b[1;33m\u001b[0m\u001b[0m\n\u001b[0m\u001b[0;32m     24\u001b[0m \u001b[1;33m\u001b[0m\u001b[0m\n\u001b[0;32m     25\u001b[0m     \u001b[0mfig\u001b[0m\u001b[1;33m,\u001b[0m \u001b[0max\u001b[0m \u001b[1;33m=\u001b[0m \u001b[0mplt\u001b[0m\u001b[1;33m.\u001b[0m\u001b[0msubplots\u001b[0m\u001b[1;33m(\u001b[0m\u001b[0mfigsize\u001b[0m\u001b[1;33m=\u001b[0m\u001b[1;33m(\u001b[0m\u001b[1;36m8\u001b[0m\u001b[1;33m,\u001b[0m\u001b[1;36m8\u001b[0m\u001b[1;33m)\u001b[0m\u001b[1;33m)\u001b[0m\u001b[1;33m\u001b[0m\u001b[0m\n",
      "\u001b[1;32m/home/ec2-user/.pyenv/versions/3.5.1/lib/python3.5/site-packages/skimage/feature/blob.py\u001b[0m in \u001b[0;36mblob_doh\u001b[1;34m(image, min_sigma, max_sigma, num_sigma, threshold, overlap, log_scale)\u001b[0m\n\u001b[0;32m    406\u001b[0m \u001b[1;33m\u001b[0m\u001b[0m\n\u001b[0;32m    407\u001b[0m     \u001b[0mhessian_images\u001b[0m \u001b[1;33m=\u001b[0m \u001b[1;33m[\u001b[0m\u001b[0m_hessian_matrix_det\u001b[0m\u001b[1;33m(\u001b[0m\u001b[0mimage\u001b[0m\u001b[1;33m,\u001b[0m \u001b[0ms\u001b[0m\u001b[1;33m)\u001b[0m \u001b[1;32mfor\u001b[0m \u001b[0ms\u001b[0m \u001b[1;32min\u001b[0m \u001b[0msigma_list\u001b[0m\u001b[1;33m]\u001b[0m\u001b[1;33m\u001b[0m\u001b[0m\n\u001b[1;32m--> 408\u001b[1;33m     \u001b[0mimage_cube\u001b[0m \u001b[1;33m=\u001b[0m \u001b[0mnp\u001b[0m\u001b[1;33m.\u001b[0m\u001b[0mdstack\u001b[0m\u001b[1;33m(\u001b[0m\u001b[0mhessian_images\u001b[0m\u001b[1;33m)\u001b[0m\u001b[1;33m\u001b[0m\u001b[0m\n\u001b[0m\u001b[0;32m    409\u001b[0m \u001b[1;33m\u001b[0m\u001b[0m\n\u001b[0;32m    410\u001b[0m     local_maxima = peak_local_max(image_cube, threshold_abs=threshold,\n",
      "\u001b[1;32m/home/ec2-user/.pyenv/versions/3.5.1/lib/python3.5/site-packages/numpy/lib/shape_base.py\u001b[0m in \u001b[0;36mdstack\u001b[1;34m(tup)\u001b[0m\n\u001b[0;32m    366\u001b[0m \u001b[1;33m\u001b[0m\u001b[0m\n\u001b[0;32m    367\u001b[0m     \"\"\"\n\u001b[1;32m--> 368\u001b[1;33m     \u001b[1;32mreturn\u001b[0m \u001b[0m_nx\u001b[0m\u001b[1;33m.\u001b[0m\u001b[0mconcatenate\u001b[0m\u001b[1;33m(\u001b[0m\u001b[1;33m[\u001b[0m\u001b[0matleast_3d\u001b[0m\u001b[1;33m(\u001b[0m\u001b[0m_m\u001b[0m\u001b[1;33m)\u001b[0m \u001b[1;32mfor\u001b[0m \u001b[0m_m\u001b[0m \u001b[1;32min\u001b[0m \u001b[0mtup\u001b[0m\u001b[1;33m]\u001b[0m\u001b[1;33m,\u001b[0m \u001b[1;36m2\u001b[0m\u001b[1;33m)\u001b[0m\u001b[1;33m\u001b[0m\u001b[0m\n\u001b[0m\u001b[0;32m    369\u001b[0m \u001b[1;33m\u001b[0m\u001b[0m\n\u001b[0;32m    370\u001b[0m \u001b[1;32mdef\u001b[0m \u001b[0m_replace_zero_by_x_arrays\u001b[0m\u001b[1;33m(\u001b[0m\u001b[0msub_arys\u001b[0m\u001b[1;33m)\u001b[0m\u001b[1;33m:\u001b[0m\u001b[1;33m\u001b[0m\u001b[0m\n",
      "\u001b[1;31mMemoryError\u001b[0m: "
     ]
    }
   ],
   "source": [
    "# Use interact to explore the galaxy detection algorithm.\n",
    "interact(plot_blobs, max_sigma=(10, 40, 2), threshold=(0.005, 0.02, 0.001));\n"
   ]
  },
  {
   "cell_type": "code",
   "execution_count": 71,
   "metadata": {
    "collapsed": false
   },
   "outputs": [
    {
     "name": "stdout",
     "output_type": "stream",
     "text": [
      ">f4 7160832\n"
     ]
    }
   ],
   "source": [
    "print(image_gem.dtype, image.size)"
   ]
  },
  {
   "cell_type": "code",
   "execution_count": 79,
   "metadata": {
    "collapsed": false
   },
   "outputs": [],
   "source": [
    "t=image_gem/image_gem.max()\n"
   ]
  },
  {
   "cell_type": "code",
   "execution_count": 81,
   "metadata": {
    "collapsed": false
   },
   "outputs": [
    {
     "data": {
      "text/plain": [
       "2"
      ]
     },
     "execution_count": 81,
     "metadata": {},
     "output_type": "execute_result"
    }
   ],
   "source": [
    "t.ndim"
   ]
  },
  {
   "cell_type": "code",
   "execution_count": null,
   "metadata": {
    "collapsed": true
   },
   "outputs": [],
   "source": []
  },
  {
   "cell_type": "code",
   "execution_count": null,
   "metadata": {
    "collapsed": true
   },
   "outputs": [],
   "source": []
  }
 ],
 "metadata": {
  "kernelspec": {
   "display_name": "Python 3",
   "language": "python",
   "name": "python3"
  },
  "language_info": {
   "codemirror_mode": {
    "name": "ipython",
    "version": 3
   },
   "file_extension": ".py",
   "mimetype": "text/x-python",
   "name": "python",
   "nbconvert_exporter": "python",
   "pygments_lexer": "ipython3",
   "version": "3.5.1"
  },
  "nikola": {
   "category": "",
   "date": "2016-06-27 11:22:49 UTC-05:00",
   "description": "",
   "link": "",
   "slug": "finding-galaxies-within-100-kpc-of-q1532+0613",
   "tags": "",
   "title": "Finding Galaxies within 100 kpc of Q1532+0613",
   "type": "text"
  },
  "widgets": {
   "state": {
    "051edc09b3d84490af40136e00e98488": {
     "views": []
    },
    "053367d4f9fd4ab1a6209643522fed03": {
     "views": []
    },
    "065b4ecc3f4241e4bbb99462552696bb": {
     "views": []
    },
    "100d608afb7b41abb2a4d5b36b91fdff": {
     "views": []
    },
    "1101a425408347b5980d7507e1e6ef96": {
     "views": []
    },
    "116dcaad1188458e8d1a27db0fb42357": {
     "views": []
    },
    "12d801795bed460983a7b19e04411561": {
     "views": []
    },
    "13bc5fde6772431788b1c5a792a54283": {
     "views": []
    },
    "13e461229e444ff0b2a94d1b48f65efa": {
     "views": []
    },
    "13fed8dfbdd64a2ab543a999362bfc37": {
     "views": []
    },
    "1597de0cd88943728459180150ca8eb3": {
     "views": []
    },
    "16ad0d73ebec458e89a289c987d3c22e": {
     "views": []
    },
    "182db4904bb7431d8c8bea82e61788c5": {
     "views": []
    },
    "1b56508db63a445f9e911664968f9071": {
     "views": []
    },
    "1b7182716b8d4fa9a97a9264beabcf2b": {
     "views": []
    },
    "1bcce36d2a714a2794fe037e1a84b898": {
     "views": []
    },
    "1d574045bc1a4c01a8b629cec5a2e032": {
     "views": []
    },
    "1feaf383e73b442fab50e54328abe4d2": {
     "views": []
    },
    "216898949e104f71bb7d70aac6ca471d": {
     "views": []
    },
    "233df809cb85401d88e5cde34b7c90f0": {
     "views": []
    },
    "23e824fb14154e21b005df6fc793069f": {
     "views": []
    },
    "259f7ea085954ef9ae9b369c0765f24f": {
     "views": []
    },
    "2e7d3316b3364f75ba78b1a06921a5c7": {
     "views": []
    },
    "2f340cbf84eb44f1838c681db66d511a": {
     "views": []
    },
    "2f89c1d8ff4643519c565588597a7bde": {
     "views": []
    },
    "303f06d40d1d46dc9db7de96e35ce0bd": {
     "views": []
    },
    "35868d85f44c41e7a505b3a22c543c1b": {
     "views": []
    },
    "3587a3bc7bbd43f29ecfc971e65a79f3": {
     "views": []
    },
    "3915a081644e498ab003bf37a5d81165": {
     "views": []
    },
    "3981812763924bd4bfb9e23c73c25261": {
     "views": []
    },
    "3b841d1de5f0490385f138c5f734b6b7": {
     "views": []
    },
    "3d3f091043ac49a9be52fcf35e890b4c": {
     "views": []
    },
    "3f8c5fa9423f4584b035e05ce0298287": {
     "views": []
    },
    "419223d6306f4c6eb7ad0fb4b3d9fb70": {
     "views": []
    },
    "443ff72945e6497cbcaaa1573a4d6b2e": {
     "views": []
    },
    "4526e014c3f1453c8a615eadeb5027ab": {
     "views": []
    },
    "462aadf17a4642d880f61e7f0e09d84d": {
     "views": []
    },
    "468058b893604f9097a6d1bb79bd4add": {
     "views": []
    },
    "46fff6c020ad48a2a07fb36100fe33b4": {
     "views": []
    },
    "4d48d11184a746c09f044c886f2fbbb3": {
     "views": []
    },
    "4e00f8dfbc1845e39afa5c0fdfcc5ba2": {
     "views": []
    },
    "524ffcd17c3a4fd6bdc737bb3747be9f": {
     "views": []
    },
    "547c8cbd9fe74a469652211b92329374": {
     "views": []
    },
    "54d2e0b2b1a04a71ae390d94ca6a8f8c": {
     "views": []
    },
    "57f687c6f6c0437190ff6ec12bff8c5f": {
     "views": []
    },
    "596704317dae48be903be6359e331dc6": {
     "views": []
    },
    "5a2cc736854a4eac824490be9a8f7886": {
     "views": []
    },
    "5b3bba1bf2fd4f35958bb07583605fca": {
     "views": []
    },
    "5c69ee0dcb3344c7a9e38d05d7e5db70": {
     "views": []
    },
    "5e102a341a794069a007adbb633d5b64": {
     "views": []
    },
    "5e1e0af388074653aa25371012696947": {
     "views": []
    },
    "60e83f7c36c4411fb6870234d06f48b5": {
     "views": []
    },
    "62148daae0bd4b76b20f2a1346cf7c32": {
     "views": []
    },
    "62371656509345e7b6d87b87494dcfe5": {
     "views": [
      {
       "cell_index": 2
      }
     ]
    },
    "62d2e3264af349ffb9e5390c281d99cc": {
     "views": []
    },
    "68b68887125d4098828b9b9f2d2f9db9": {
     "views": []
    },
    "68cd46a1c74849b8920330d97266521a": {
     "views": []
    },
    "6a47317c358e46449a76a23ffb079151": {
     "views": []
    },
    "6c0e0fa598fd412cb8b986ee744220a1": {
     "views": []
    },
    "6d9090e4e92e49caa5feca7bb1748b37": {
     "views": []
    },
    "6da91bace6e5430eb2f170f5232f30f8": {
     "views": []
    },
    "6dcb58546e974c6eb725f8d164c9a81a": {
     "views": []
    },
    "6ee1ef2fc2604af9969ae461c1354a61": {
     "views": []
    },
    "70b0d25517ef4ed5a386cd8c8a1aa270": {
     "views": []
    },
    "71d0eca481e34a7f95a3819f28322bea": {
     "views": []
    },
    "72ec216c4f1641ffbf78e69f726724f8": {
     "views": []
    },
    "73be7ac6d73947728045ec3bf42d4023": {
     "views": []
    },
    "785f67e75a524c1386a6a9ad55224932": {
     "views": []
    },
    "79604487df2048f5996c6b62ec31cbc6": {
     "views": []
    },
    "7a588933943b4ec3ade7adf88df2b1ed": {
     "views": []
    },
    "7a9f511059ad43f29d9b6f66b0049e55": {
     "views": []
    },
    "7aacbb989f594bfea207fde949e1bbea": {
     "views": []
    },
    "7c3d8b47d09c45e3866602ff2a7185c0": {
     "views": []
    },
    "7c4da2e1396a419aba77a3c254635b6b": {
     "views": []
    },
    "7d9dec6eed7742feb76eeee9fc9a1287": {
     "views": []
    },
    "7e36d56fb177454a8e453cb02419c053": {
     "views": []
    },
    "858d06439d5e44c1a33253a0841410f3": {
     "views": []
    },
    "87495cc875564675bbc8c2b0e53654c3": {
     "views": []
    },
    "88f5712fd51a49cf8752f8aa122b7092": {
     "views": []
    },
    "896c070976f447d78034f3c3c0dd6963": {
     "views": []
    },
    "8a5b22b753f642eba926b0651b6e5cd0": {
     "views": []
    },
    "8b16d3a986804c29b8aba21fb2d6883f": {
     "views": []
    },
    "8d23bdc84f3e4b28ae2dfe554b7a5fcc": {
     "views": []
    },
    "8d3643dc6c334ca7a37c375da61197ba": {
     "views": []
    },
    "8e3047dc0de04cba96a11d8f9672e549": {
     "views": []
    },
    "8f8ab5a896124dc4b635868a0916217a": {
     "views": []
    },
    "977736b3e9a14796acc284ee6ceb522d": {
     "views": []
    },
    "9b7fa77d86774ccd9497cdd5c64aef76": {
     "views": []
    },
    "9c2cd4899eae41eaba3429eb6a157e07": {
     "views": []
    },
    "9cf67f83dceb4241ae3bdf8404153184": {
     "views": []
    },
    "a157324c57694e8baa4f9f40aede468b": {
     "views": []
    },
    "a4304b1c01e24829810ae8a2a561b43a": {
     "views": []
    },
    "a80938d7da7a43809636a3f7537529bf": {
     "views": []
    },
    "abd6182685684e3591390f0c12f47ec1": {
     "views": []
    },
    "ac5680d70b034188a304898b1e6abc31": {
     "views": []
    },
    "ac62c6a7ba544d07a9256e3a7ef4c892": {
     "views": []
    },
    "ac6d9fdf57354978b1cfaf5adccd985d": {
     "views": []
    },
    "ac95e1b9fc214d4183292c6f909feb76": {
     "views": []
    },
    "ae76f8cc9989424f8a7d8910f448e7a5": {
     "views": []
    },
    "b19cde22b82049ed98bddff05a5057cd": {
     "views": []
    },
    "b28738ddd8494202b80d74d00fd01a3a": {
     "views": []
    },
    "b29f44a0e3204908b1e0cdd8c64653bd": {
     "views": []
    },
    "b47f703831f542c78f1b327dde0fd820": {
     "views": []
    },
    "b5717ce06aa3467cbbb95234dacf4a38": {
     "views": []
    },
    "b5c8672d764b473fa1c6ce911c490743": {
     "views": []
    },
    "b6f01163d45145658fb3887905471671": {
     "views": []
    },
    "b95e7f9d43204c08b742d347964a9be2": {
     "views": []
    },
    "ba4586aff07e47339b0574220faff715": {
     "views": []
    },
    "ba4d32c74626445e8a65b968cd757295": {
     "views": []
    },
    "bac6d08a577240ffb8b376fb5c0caed6": {
     "views": []
    },
    "bc6916606766484a9e1dd025b0033bbc": {
     "views": []
    },
    "bd544ef5c8cf4fce87cc0ac7ea7a3a12": {
     "views": []
    },
    "be4edd3c03094e4496b6ce62afb3793d": {
     "views": []
    },
    "be9258114a9c42dd824290164ea73e0c": {
     "views": []
    },
    "c115e6d88a0944a5a6e22dd2e9ba9468": {
     "views": []
    },
    "c594513e82b84fdeb6046a430fea0f87": {
     "views": []
    },
    "c7d6c3b50e214ec6b37cfdc6efb11243": {
     "views": []
    },
    "cae0c7477fd2409199532cd7f4690a72": {
     "views": []
    },
    "cf30562bb3e64d51b6974b08faa97a34": {
     "views": []
    },
    "cff94a4cd1bd460fa466aabe44e197be": {
     "views": []
    },
    "d0471deba05a45229e439441635c62ec": {
     "views": []
    },
    "d8b06410765047b2af16cf2a358e7e10": {
     "views": []
    },
    "d8e1b8ad32374ba78f8402d7483e7bf2": {
     "views": []
    },
    "d8ef497e75d14940ac4805aa9dd818a8": {
     "views": []
    },
    "d938188bbb654e87af97b77ebe819ebb": {
     "views": []
    },
    "dc200e35922b4252970e95b556204eb5": {
     "views": []
    },
    "e05e338c150843429f6162109a23072d": {
     "views": []
    },
    "e10b41d462ac477c9d07cdbc90c32415": {
     "views": []
    },
    "e2ac62e687e44856a2e90b6f7f204b25": {
     "views": []
    },
    "e31601d055404576a2606867f5650915": {
     "views": []
    },
    "e3920c8cddaf4f628da16ea78f29450b": {
     "views": []
    },
    "e50cd7622e7341958009eb7861eae091": {
     "views": []
    },
    "e65dc433d2934c35a6bf70b13657ca10": {
     "views": []
    },
    "e89b4667f6b5487ea9b47f7840f735a7": {
     "views": []
    },
    "ec366e947fcc43d1a88faba297343ddd": {
     "views": []
    },
    "ec5f0081c1614cedb5357361955458fb": {
     "views": []
    },
    "edfa8d44e3764726ae2abb45315c5b83": {
     "views": []
    },
    "f2cde8d4a579474fbafb0d30c2ccb3dc": {
     "views": []
    },
    "f3b79739bd9e48cfa98c8a8644ee5855": {
     "views": []
    },
    "f540ffd34a8d4c6582a5246080fe0de7": {
     "views": []
    },
    "f54a755c0027455fbe507cca80b87e4c": {
     "views": []
    },
    "f74ce350af024e5586ce89531bb561cb": {
     "views": []
    },
    "fb5da52f766a464ca5ccccbdc0a92312": {
     "views": []
    },
    "fefdc4dcf22a47faba3aede0e93470c1": {
     "views": []
    }
   },
   "version": "1.1.2"
  }
 },
 "nbformat": 4,
 "nbformat_minor": 0
}
