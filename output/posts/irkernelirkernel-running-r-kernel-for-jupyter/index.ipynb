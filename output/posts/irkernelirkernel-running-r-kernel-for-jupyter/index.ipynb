{
 "cells": [
  {
   "cell_type": "markdown",
   "metadata": {},
   "source": [
    "\n",
    "In order to be able to use native R kernel for Jupyter, \n",
    "you need to do the following:\n",
    "\n",
    "\n",
    "1) Install R\n",
    "```bash\n",
    "brew tap homebrew/science \n",
    "brew install r\n",
    "```\n",
    "\n",
    "2) Run R in a terminal, the run the following\n",
    "\n",
    "```bash\n",
    "install.packages(c('repr', 'pbdZMQ', 'devtools'))\n",
    "devtools::install_github(c('IRkernel/IRdisplay', 'IRkernel/IRkernel'))\n",
    "IRkernel::installspec(user = FALSE)\n",
    "```"
   ]
  }
 ],
 "metadata": {
  "kernelspec": {
   "display_name": "Python 3",
   "language": "python",
   "name": "python3"
  },
  "language_info": {
   "codemirror_mode": {
    "name": "ipython",
    "version": 3
   },
   "file_extension": ".py",
   "mimetype": "text/x-python",
   "name": "python",
   "nbconvert_exporter": "python",
   "pygments_lexer": "ipython3",
   "version": "3.5.1"
  },
  "nikola": {
   "category": "",
   "date": "2016-07-14 16:39:33 UTC-05:00",
   "description": "",
   "link": "",
   "slug": "irkernelirkernel-running-r-kernel-for-jupyter",
   "tags": "",
   "title": "IRkernel/IRkernel: Running R kernel for Jupyter",
   "type": "text"
  },
  "widgets": {
   "state": {},
   "version": "1.1.2"
  }
 },
 "nbformat": 4,
 "nbformat_minor": 0
}
