{
 "cells": [
  {
   "cell_type": "markdown",
   "metadata": {},
   "source": [
    "## Python Cheatsheet\n",
    "\n",
    "- [Types](#Types)\n",
    "- [Lists](#Lists)\n",
    "- [Dictionaries](#Dictionaries)\n",
    "- [Strings](#Strings)\n",
    "- [Operators](#Operators)\n",
    "- [Control Flow](#Control-Flow)\n",
    "- [Functions, Classes, Generators, Decorators](#Functions,-Classes,-Generators,-Decorators)\n",
    "\n",
    "Python\n",
    "------\n",
    "\n",
    "### Types\n",
    "\n",
    "```python\n",
    "a = 1           # integer\n",
    "b = 1.0         # float\n",
    "c = 1.0e5       # exponential\n",
    "d = 1.0 + 2.5j  # complex\n",
    "e = 1 > 0       # boolean\n",
    "f = 'string'    # string\n",
    "```\n",
    "\n",
    "<!-- TEASER_END -->\n",
    "### Lists\n",
    "\n",
    "```python\n",
    "a = ['a', 'b', 'c']                # manually initialization\n",
    "b = list(range(5))                 # initialization through a function\n",
    "c = [x**2 for x in b]              # initialize through list comprehension\n",
    "d = [x**2 for x in b if x < 3]     # list comprehension with condition\n",
    "e = c[0]                           # access element\n",
    "f = c[1:2]                         # access a slice of the list\n",
    "g = ['a', 'b'] + ['c']             # list concatenation\n",
    "h = ['x'] * 5                      # repeat a list\n",
    "['x', 'y', 'z', 'x'].index('x')    # returns index of an element\n",
    "'x' in ['x', 'y', 'z', 'x']        # true if the element is in the list\n",
    "sorted([2, 3, 1, 4], reverse=True) # returns sorted list (big to small)\n",
    "```\n",
    "\n",
    "### Dictionaries\n",
    "\n",
    "```python\n",
    "a = {'red': 'pula', 'blue': 'asual', 'orange': 'kahel'}  # dictionary\n",
    "b = a['red']                                             # translate item\n",
    "c = [value for key, value in a.items()]                  # loop through contents\n",
    "d = a.get('yellow', 'No translation found!')             # return default\n",
    "```\n",
    "\n",
    "### Strings\n",
    "\n",
    "```python\n",
    "a = 'pula'                      # assignment\n",
    "char = a[2]                     # access individual characters\n",
    "'pula ' + 'asul'                # string concatenation\n",
    "'1, 2, three'.split(',')        # split string into list\n",
    "'.'.join(['1', '2', 'tatlo'])   # concatenate list into string\n",
    "```\n",
    "\n",
    "### Operators\n",
    "\n",
    "```python\n",
    "a = 2             # assignment\n",
    "a += 1 (*=, /=)   # change and assign\n",
    "3 + 2             # addition\n",
    "3 / 2             # integer division (python2) or float division (python3)\n",
    "3 // 2            # integer division\n",
    "3 * 2             # multiplication\n",
    "3 ** 2            # exponent\n",
    "3 % 2             # remainder\n",
    "abs(a)            # absolute value\n",
    "1 == 1            # equal\n",
    "2 > 1             # larger\n",
    "2 < 1             # smaller\n",
    "1 != 2            # not equal\n",
    "1 != 2 and 2 < 3  # logical AND\n",
    "1 != 2 or 2 < 3   # logical OR\n",
    "not 1 == 2        # logical NOT\n",
    "'a' in b          # test if a is in b\n",
    "a is b            # test if objects point to the same memory (id)\n",
    "```\n",
    "\n",
    "### Control Flow\n",
    "\n",
    "```python\n",
    "# if/elif/else\n",
    "a, b = 1, 2\n",
    "if a + b == 3:\n",
    "    print('True')\n",
    "elif a + b == 1:\n",
    "    print('False')\n",
    "else:\n",
    "    print('?')\n",
    "\n",
    "# for\n",
    "a = ['red', 'blue', 'green']\n",
    "for color in a:\n",
    "    print(color)\n",
    "\n",
    "# while\n",
    "number = 1\n",
    "while number < 10:\n",
    "    print(number)\n",
    "    number += 1\n",
    "\n",
    "# break\n",
    "number = 1\n",
    "while True:\n",
    "    print(number)\n",
    "    number += 1\n",
    "    if number > 10:\n",
    "        break\n",
    "\n",
    "# continue\n",
    "for i in range(20):\n",
    "    if i % 2 == 0:\n",
    "        continue\n",
    "    print(i)\n",
    "```\n",
    "\n",
    "### Functions, Classes, Generators, Decorators\n",
    "\n",
    "```python\n",
    "# Function\n",
    "def addition(a1, a2):\n",
    "    return a1 + a2\n",
    "\n",
    "x = addition(a1, a2)\n",
    "\n",
    "# Class\n",
    "class Point(object):\n",
    "    def __init__(self, x):\n",
    "        self.x = x\n",
    "    def __call__(self):\n",
    "        print(self.x)\n",
    "\n",
    "x = Point(3)\n",
    "\n",
    "# Generators\n",
    "def firstn(n):\n",
    "    num = 0\n",
    "    while num < n:\n",
    "        yield num\n",
    "        num += 1\n",
    "\n",
    "# consume the generator with list comprehension\n",
    "x = [i for i in firstn(10)]\n",
    "\n",
    "# Decorators\n",
    "class myDecorator(object):\n",
    "    def __init__(self, f):\n",
    "        self.f = f\n",
    "    def __call__(self):\n",
    "        print(\"call\")\n",
    "        self.f()\n",
    "\n",
    "@myDecorator\n",
    "def my_funct():\n",
    "    print('func')\n",
    "\n",
    "my_funct()\n",
    "```"
   ]
  },
  {
   "cell_type": "markdown",
   "metadata": {},
   "source": [
    "### Types"
   ]
  },
  {
   "cell_type": "code",
   "execution_count": 1,
   "metadata": {
    "collapsed": false
   },
   "outputs": [
    {
     "name": "stdout",
     "output_type": "stream",
     "text": [
      " 1 \n",
      " 1.0 \n",
      " 100000.0 \n",
      " (1+2.5j) \n",
      " True \n",
      " string\n"
     ]
    }
   ],
   "source": [
    "a = 1           # integer\n",
    "b = 1.0         # float\n",
    "c = 1.0e5       # exponential\n",
    "d = 1.0 + 2.5j  # complex\n",
    "e = 1 > 0       # boolean\n",
    "f = 'string'    # string\n",
    "print('',a,'\\n', b,'\\n',  c,'\\n',  d,'\\n',  e,'\\n',  f)"
   ]
  },
  {
   "cell_type": "markdown",
   "metadata": {},
   "source": [
    "### Lists "
   ]
  },
  {
   "cell_type": "code",
   "execution_count": 2,
   "metadata": {
    "collapsed": false
   },
   "outputs": [
    {
     "name": "stdout",
     "output_type": "stream",
     "text": [
      "['a', 'b', 'c']\n"
     ]
    }
   ],
   "source": [
    "# manually initialization\n",
    "a = ['a', 'b', 'c']                \n",
    "print(a)"
   ]
  },
  {
   "cell_type": "code",
   "execution_count": 3,
   "metadata": {
    "collapsed": false
   },
   "outputs": [
    {
     "name": "stdout",
     "output_type": "stream",
     "text": [
      "[0, 1, 2, 3, 4]\n"
     ]
    }
   ],
   "source": [
    "# initialization through a function\n",
    "b = list(range(5))                 \n",
    "print(b)"
   ]
  },
  {
   "cell_type": "code",
   "execution_count": 4,
   "metadata": {
    "collapsed": false
   },
   "outputs": [
    {
     "name": "stdout",
     "output_type": "stream",
     "text": [
      "[0, 1, 4, 9, 16]\n"
     ]
    }
   ],
   "source": [
    "# initialize through list comprehension\n",
    "c = [x**2 for x in b]              \n",
    "print(c)"
   ]
  },
  {
   "cell_type": "code",
   "execution_count": 5,
   "metadata": {
    "collapsed": false
   },
   "outputs": [
    {
     "name": "stdout",
     "output_type": "stream",
     "text": [
      "[0, 1, 4]\n"
     ]
    }
   ],
   "source": [
    "# list comprehension with condition\n",
    "d = [x**2 for x in b if x < 3]     \n",
    "print(d)"
   ]
  },
  {
   "cell_type": "code",
   "execution_count": 6,
   "metadata": {
    "collapsed": false
   },
   "outputs": [
    {
     "name": "stdout",
     "output_type": "stream",
     "text": [
      "0\n"
     ]
    }
   ],
   "source": [
    "# access element\n",
    "e = c[0] \n",
    "print(e)"
   ]
  },
  {
   "cell_type": "code",
   "execution_count": 7,
   "metadata": {
    "collapsed": false
   },
   "outputs": [
    {
     "name": "stdout",
     "output_type": "stream",
     "text": [
      "[1]\n"
     ]
    }
   ],
   "source": [
    "# access a slice of the list\n",
    "f = c[1:2]                         \n",
    "print(f)"
   ]
  },
  {
   "cell_type": "code",
   "execution_count": 8,
   "metadata": {
    "collapsed": false
   },
   "outputs": [
    {
     "name": "stdout",
     "output_type": "stream",
     "text": [
      "['a', 'b', 'c']\n"
     ]
    }
   ],
   "source": [
    "# list concatenation\n",
    "g = ['a', 'b'] + ['c']    \n",
    "print(g)"
   ]
  },
  {
   "cell_type": "code",
   "execution_count": 9,
   "metadata": {
    "collapsed": false
   },
   "outputs": [
    {
     "name": "stdout",
     "output_type": "stream",
     "text": [
      "['x', 'x', 'x', 'x', 'x']\n"
     ]
    }
   ],
   "source": [
    "# repeat a list\n",
    "h = ['x'] * 5\n",
    "print(h)"
   ]
  },
  {
   "cell_type": "code",
   "execution_count": 10,
   "metadata": {
    "collapsed": false
   },
   "outputs": [
    {
     "data": {
      "text/plain": [
       "0"
      ]
     },
     "execution_count": 10,
     "metadata": {},
     "output_type": "execute_result"
    }
   ],
   "source": [
    "# returns index of an element\n",
    "['x', 'y', 'z', 'x'].index('x')         "
   ]
  },
  {
   "cell_type": "code",
   "execution_count": 11,
   "metadata": {
    "collapsed": false
   },
   "outputs": [
    {
     "data": {
      "text/plain": [
       "True"
      ]
     },
     "execution_count": 11,
     "metadata": {},
     "output_type": "execute_result"
    }
   ],
   "source": [
    "# true if the element is in the list\n",
    "'x' in ['x', 'y', 'z', 'x']"
   ]
  },
  {
   "cell_type": "code",
   "execution_count": 12,
   "metadata": {
    "collapsed": false
   },
   "outputs": [
    {
     "data": {
      "text/plain": [
       "[4, 3, 2, 1]"
      ]
     },
     "execution_count": 12,
     "metadata": {},
     "output_type": "execute_result"
    }
   ],
   "source": [
    "# returns sorted list (big to small)\n",
    "sorted([2, 3, 1, 4], reverse=True)    "
   ]
  }
 ],
 "metadata": {
  "kernelspec": {
   "display_name": "Python 3",
   "language": "python",
   "name": "python3"
  },
  "language_info": {
   "codemirror_mode": {
    "name": "ipython",
    "version": 3
   },
   "file_extension": ".py",
   "mimetype": "text/x-python",
   "name": "python",
   "nbconvert_exporter": "python",
   "pygments_lexer": "ipython3",
   "version": "3.5.1"
  },
  "nikola": {
   "category": "",
   "date": "2016-06-12 17:34:02 UTC-05:00",
   "description": "",
   "link": "",
   "slug": "python-cheatsheet",
   "tags": "",
   "title": "Python Cheatsheet",
   "type": "text"
  }
 },
 "nbformat": 4,
 "nbformat_minor": 0
}
