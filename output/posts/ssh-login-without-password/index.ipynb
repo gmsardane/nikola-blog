{
 "cells": [
  {
   "cell_type": "markdown",
   "metadata": {},
   "source": [
    "If you want to ssh from 'userx' of host X to 'usery' of host Y without typing password, you need to do\n",
    "the following.\n",
    "\n",
    "\n",
    "1. Log in on host X as userx and generate a pair of authentication keys. Make sure not to enter a passphrase:\n",
    "``` bash\n",
    "userx@X:~> ssh-keygen -t rsa\n",
    "Generating public/private rsa key pair.\n",
    "Enter file in which to save the key (/home/userx/.ssh/id_rsa): \n",
    "Created directory '/home/userx/.ssh'.\n",
    "Enter passphrase (empty for no passphrase): \n",
    "Enter same passphrase again: \n",
    "Your identification has been saved in /home/userx/.ssh/id_rsa.\n",
    "Your public key has been saved in /home/userx/.ssh/id_rsa.pub.\n",
    "The key fingerprint is:\n",
    "3x:5f:05:79:3d:8f:9e:7c:3b:ad:e9:58:37:bc:37:e4 userx@X\n",
    "```\n",
    "<!-- TEASER_END -->\n",
    "2. Log in on host Y as usery and then create a directory ~/.ssh on Y. (It's okey if the directory already exist):\n",
    "``` bash\n",
    "userx@X:~> ssh usery@Y mkdir -p .ssh\n",
    "usery@Y's password: \n",
    "```\n",
    "    \n",
    "3. Append X's new public key to usery@Y:.ssh/authorized_keys and enter usery's password one last time:\n",
    "    ``` bash\n",
    "    userx@X:~> cat .ssh/id_rsa.pub | ssh usery@Y 'cat >> .ssh/authorized_keys'\n",
    "    usery@Y's password: \n",
    "    ```\n",
    "\n",
    "4. That's it! Now on you can log into Y as usery from X as userx without password.\n",
    "\n",
    "    ``` bash\n",
    "    user@X:~> ssh user@Y\n",
    "    ```\n",
    "\n",
    "\n",
    "Depending on your SSH version you might also have to do one of the following changes:\n",
    "\n",
    "* Change the permissions of .ssh to 700 and anything inside to 600\n",
    "    ``` bash\n",
    "    userx@X:~> chmod 700 ~/.ssh && chmod 600 ~/.ssh/*\n",
    "    userx@X:~> ssh usery@Y chmod 700 ~/.ssh && chmod 600 ~/.ssh/*\n",
    "    ```\n",
    "\n",
    "* Put the public key in .ssh/authorized_keys2 and the change the permissions of .ssh/authorized_keys2 to 640"
   ]
  }
 ],
 "metadata": {
  "kernelspec": {
   "display_name": "Python 3",
   "language": "python",
   "name": "python3"
  },
  "language_info": {
   "codemirror_mode": {
    "name": "ipython",
    "version": 3
   },
   "file_extension": ".py",
   "mimetype": "text/x-python",
   "name": "python",
   "nbconvert_exporter": "python",
   "pygments_lexer": "ipython3",
   "version": "3.5.1"
  },
  "nikola": {
   "category": "",
   "date": "2016-06-23 18:34:34 UTC-05:00",
   "description": "",
   "link": "",
   "slug": "ssh-login-without-password",
   "tags": "",
   "title": "SSH Login Without Password",
   "type": "text"
  }
 },
 "nbformat": 4,
 "nbformat_minor": 0
}
