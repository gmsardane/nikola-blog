{
 "cells": [
  {
   "cell_type": "markdown",
   "metadata": {},
   "source": [
    "``` python\n",
    "import mysql.connector\n",
    "```\n",
    "\n",
    "For OSX,\n",
    "the import above requires installation of \n",
    "```\n",
    "http://dev.mysql.com/downloads/connector/python/\n",
    "```\n",
    "\n",
    "For Ubuntu (or a Debian based distro),\n",
    "``` bash\n",
    "sudo pip install mysql-connector-python --allow-external mysql-connector-python\n",
    "```"
   ]
  }
 ],
 "metadata": {
  "kernelspec": {
   "display_name": "Python 3",
   "language": "python",
   "name": "python3"
  },
  "language_info": {
   "codemirror_mode": {
    "name": "ipython",
    "version": 3
   },
   "file_extension": ".py",
   "mimetype": "text/x-python",
   "name": "python",
   "nbconvert_exporter": "python",
   "pygments_lexer": "ipython3",
   "version": "3.5.1"
  },
  "nikola": {
   "category": "",
   "date": "2016-06-23 17:32:42 UTC-05:00",
   "description": "",
   "link": "",
   "slug": "installing-python-mysqlconnector",
   "tags": "",
   "title": "Installing Python mysql.connector",
   "type": "text"
  }
 },
 "nbformat": 4,
 "nbformat_minor": 0
}
