{
 "cells": [
  {
   "cell_type": "markdown",
   "metadata": {},
   "source": [
    "## To use ipynb\n",
    "Download an IPython compatible theme. To list all the available themes in Nikola:\n",
    "```bash\n",
    "nikola install_theme -l \n",
    "```\n",
    "To install\n",
    "```bash\n",
    "nikola install_theme jinja-site-ipython\n",
    "```\n",
    "\n",
    "Modify your ```conf.py``` file. \n",
    "Add the following lines to ```POSTS```:\n",
    "```\n",
    "(\"posts/*.ipynb\", \"posts\", \"post.tmpl\", True), \n",
    "```\n",
    "and add the following line to ```PAGES```:\n",
    "```\n",
    "(\"stories/*.ipynb\", \"stories\", \"story.tmpl\", False),\n",
    "```\n",
    "and set ```THEME``` to:\n",
    "```bash\n",
    "THEME = 'jinja-site-ipython'\n",
    "```\n",
    "\n",
    "To write a new post,\n",
    "```bash\n",
    "nikola new_post -f ipynb \n",
    "```\n",
    "\n",
    "```-f ipynb``` is not needed if POSTS/PAGES only have ipynb option"
   ]
  }
 ],
 "metadata": {
  "kernelspec": {
   "display_name": "Python 3",
   "env": {},
   "language": "python",
   "name": "python3"
  },
  "nikola": {
   "category": "",
   "date": "2017-08-12 03:18:28 UTC-05:00",
   "description": "",
   "link": "",
   "slug": "blogging-with-ipynb",
   "tags": "",
   "title": "Blogging with ipynb",
   "type": "text"
  }
 },
 "nbformat": 4,
 "nbformat_minor": 2
}
