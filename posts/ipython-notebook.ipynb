{
 "cells": [
  {
   "cell_type": "markdown",
   "metadata": {},
   "source": [
    "Write your post here."
   ]
  }
 ],
 "metadata": {
  "kernelspec": {
   "display_name": "Python 2",
   "env": {},
   "language": "python",
   "name": "python2"
  },
  "nikola": {
   "category": "",
   "date": "2016-05-29 15:10:34 UTC-05:00",
   "description": "",
   "link": "",
   "slug": "ipython-notebook",
   "tags": "",
   "title": "IPython Notebook",
   "type": "text"
  }
 },
 "nbformat": 4,
 "nbformat_minor": 0
}
